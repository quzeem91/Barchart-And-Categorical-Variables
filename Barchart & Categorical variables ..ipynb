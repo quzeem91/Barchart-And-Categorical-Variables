{
 "cells": [
  {
   "cell_type": "markdown",
   "id": "1fadf3a3",
   "metadata": {},
   "source": [
    "### BarChart & Categorical Variables\n"
   ]
  },
  {
   "cell_type": "markdown",
   "id": "22a2d425",
   "metadata": {},
   "source": [
    "### *Introduction* \n",
    "When it comes to univariate visualization of categorical variables , only an handful of Charts can be employed to  do this,one of which is Barchart . <br> \n",
    "Here In This Repo ,You will learn to plot barcharts(horizontal , vertical and clustered  barcharts ) for effective visualization, Sort them in ascending , descending or any order of your choice ,Plot horizontal bar charts ,annotate  the bars with their respective values, using ticks to rotate axis labels . All these will be done in writing lesser codes with easy readability .   \n"
   ]
  },
  {
   "cell_type": "markdown",
   "id": "04aaa11a",
   "metadata": {},
   "source": [
    "### *Dataset*\n",
    " we will be using the popular pokemon dataset in this repo . \n"
   ]
  },
  {
   "cell_type": "markdown",
   "id": "6b2e2224",
   "metadata": {},
   "source": [
    "### *Importing the required Libraries*"
   ]
  },
  {
   "cell_type": "code",
   "execution_count": null,
   "id": "a32773c0",
   "metadata": {},
   "outputs": [],
   "source": [
    " \n",
    "import pandas as pd\n",
    "import numpy as np\n",
    "import matplotlib.pyplot as plt\n",
    "import seaborn as sb\n",
    "\n",
    "%matplotlib inline"
   ]
  },
  {
   "cell_type": "code",
   "execution_count": null,
   "id": "614d9ac6",
   "metadata": {},
   "outputs": [],
   "source": [
    "df=pd.read_csv('Downloads/pokemon.csv')\n",
    "print(df.shape)\n",
    "df.head()"
   ]
  },
  {
   "cell_type": "code",
   "execution_count": null,
   "id": "c562bf54",
   "metadata": {},
   "outputs": [],
   "source": []
  },
  {
   "cell_type": "code",
   "execution_count": null,
   "id": "92132ce8",
   "metadata": {},
   "outputs": [],
   "source": []
  },
  {
   "cell_type": "code",
   "execution_count": null,
   "id": "55b120a2",
   "metadata": {},
   "outputs": [],
   "source": []
  },
  {
   "cell_type": "code",
   "execution_count": null,
   "id": "91aeba32",
   "metadata": {},
   "outputs": [],
   "source": []
  },
  {
   "cell_type": "code",
   "execution_count": null,
   "id": "6a01cc72",
   "metadata": {},
   "outputs": [],
   "source": []
  },
  {
   "cell_type": "markdown",
   "id": "fee711eb",
   "metadata": {},
   "source": [
    "### Definition \n",
    " **Categorical variables:** <br>\n",
    " A categorical variable (also called qualitative variable) is a variable that only takes a finite number of distinct values with intrinsic or no intrinsic ordering them . <br>\n",
    " \n",
    "categorical types;\n",
    "1. Nominal data: a type of categorical data with no intrinsic ordering to it .\n",
    "2. Ordinal data: labels with an intrinsic order or ranking (comparison operations can be made between values, but the magnitude of differences are not be well-defined)\n",
    " \n"
   ]
  },
  {
   "cell_type": "code",
   "execution_count": null,
   "id": "62e7d1ca",
   "metadata": {},
   "outputs": [],
   "source": []
  },
  {
   "cell_type": "code",
   "execution_count": null,
   "id": "2d281dd8",
   "metadata": {},
   "outputs": [],
   "source": []
  },
  {
   "cell_type": "code",
   "execution_count": null,
   "id": "d3ce50a3",
   "metadata": {},
   "outputs": [],
   "source": []
  }
 ],
 "metadata": {
  "kernelspec": {
   "display_name": "Python 3",
   "language": "python",
   "name": "python3"
  },
  "language_info": {
   "codemirror_mode": {
    "name": "ipython",
    "version": 3
   },
   "file_extension": ".py",
   "mimetype": "text/x-python",
   "name": "python",
   "nbconvert_exporter": "python",
   "pygments_lexer": "ipython3",
   "version": "3.8.8"
  }
 },
 "nbformat": 4,
 "nbformat_minor": 5
}
